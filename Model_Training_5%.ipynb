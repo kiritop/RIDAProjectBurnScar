{
 "cells": [
  {
   "cell_type": "markdown",
   "id": "42c4283a-891c-4453-aa0d-e63915ceb17f",
   "metadata": {},
   "source": [
    "# PYTHON PACKAGES IMPORT"
   ]
  },
  {
   "cell_type": "code",
   "execution_count": 1,
   "id": "6513bd10-8b9a-4f00-9aee-9e35f5470dd7",
   "metadata": {
    "tags": []
   },
   "outputs": [],
   "source": [
    "import pandas as pd\n",
    "\n",
    "import numpy as np\n",
    "\n",
    "import matplotlib.pyplot as plt\n",
    "\n",
    "import seaborn as sns\n",
    "\n",
    "from sklearn.preprocessing import StandardScaler, RobustScaler, MinMaxScaler\n",
    "\n",
    "from sklearn import metrics\n",
    "\n",
    "from sklearn.metrics import classification_report, confusion_matrix, accuracy_score\n",
    "\n",
    "from sklearn.model_selection import train_test_split, cross_val_score, GridSearchCV, StratifiedKFold, KFold\n",
    "\n",
    "from sklearn.neighbors import KNeighborsClassifier\n",
    "\n",
    "from sklearn.ensemble import RandomForestClassifier\n",
    "\n",
    "from sklearn.svm import SVC\n",
    "\n",
    "from sklearn.naive_bayes import GaussianNB\n",
    "\n",
    "from sklearn.neural_network import MLPClassifier\n",
    "\n",
    "import lightgbm as lgb"
   ]
  },
  {
   "cell_type": "markdown",
   "id": "132e1611-ea34-4da2-a7c9-d0423fb2f490",
   "metadata": {},
   "source": [
    "# DATASET IMPORT"
   ]
  },
  {
   "cell_type": "code",
   "execution_count": 2,
   "id": "f431e819-438b-4e04-9c30-162a9497bdb5",
   "metadata": {
    "tags": []
   },
   "outputs": [
    {
     "data": {
      "text/html": [
       "<div>\n",
       "<style scoped>\n",
       "    .dataframe tbody tr th:only-of-type {\n",
       "        vertical-align: middle;\n",
       "    }\n",
       "\n",
       "    .dataframe tbody tr th {\n",
       "        vertical-align: top;\n",
       "    }\n",
       "\n",
       "    .dataframe thead th {\n",
       "        text-align: right;\n",
       "    }\n",
       "</style>\n",
       "<table border=\"1\" class=\"dataframe\">\n",
       "  <thead>\n",
       "    <tr style=\"text-align: right;\">\n",
       "      <th></th>\n",
       "      <th>Blue</th>\n",
       "      <th>Green</th>\n",
       "      <th>Red</th>\n",
       "      <th>VRE1</th>\n",
       "      <th>VRE2</th>\n",
       "      <th>VRE3</th>\n",
       "      <th>NIR</th>\n",
       "      <th>SWIR1</th>\n",
       "      <th>SWIR2</th>\n",
       "      <th>NDVI</th>\n",
       "      <th>...</th>\n",
       "      <th>EVI</th>\n",
       "      <th>SAVI</th>\n",
       "      <th>NDMI</th>\n",
       "      <th>MSI</th>\n",
       "      <th>NBRI</th>\n",
       "      <th>BSI</th>\n",
       "      <th>NDWI</th>\n",
       "      <th>ARVI</th>\n",
       "      <th>SIPI</th>\n",
       "      <th>Label</th>\n",
       "    </tr>\n",
       "  </thead>\n",
       "  <tbody>\n",
       "    <tr>\n",
       "      <th>0</th>\n",
       "      <td>0.343750</td>\n",
       "      <td>0.285714</td>\n",
       "      <td>0.312500</td>\n",
       "      <td>0.250000</td>\n",
       "      <td>0.339286</td>\n",
       "      <td>0.347222</td>\n",
       "      <td>0.363636</td>\n",
       "      <td>0.354167</td>\n",
       "      <td>0.377778</td>\n",
       "      <td>0.593744</td>\n",
       "      <td>...</td>\n",
       "      <td>0.730366</td>\n",
       "      <td>0.596619</td>\n",
       "      <td>0.549196</td>\n",
       "      <td>0.422650</td>\n",
       "      <td>0.540873</td>\n",
       "      <td>0.310542</td>\n",
       "      <td>0.362746</td>\n",
       "      <td>0.592950</td>\n",
       "      <td>0.393942</td>\n",
       "      <td>0</td>\n",
       "    </tr>\n",
       "    <tr>\n",
       "      <th>1</th>\n",
       "      <td>0.312500</td>\n",
       "      <td>0.257143</td>\n",
       "      <td>0.416667</td>\n",
       "      <td>0.333333</td>\n",
       "      <td>0.232143</td>\n",
       "      <td>0.222222</td>\n",
       "      <td>0.204545</td>\n",
       "      <td>0.409722</td>\n",
       "      <td>0.518519</td>\n",
       "      <td>0.326919</td>\n",
       "      <td>...</td>\n",
       "      <td>0.505021</td>\n",
       "      <td>0.327011</td>\n",
       "      <td>0.306424</td>\n",
       "      <td>0.684651</td>\n",
       "      <td>0.302727</td>\n",
       "      <td>0.303334</td>\n",
       "      <td>0.459418</td>\n",
       "      <td>0.305046</td>\n",
       "      <td>0.778388</td>\n",
       "      <td>0</td>\n",
       "    </tr>\n",
       "    <tr>\n",
       "      <th>2</th>\n",
       "      <td>0.250000</td>\n",
       "      <td>0.228571</td>\n",
       "      <td>0.354167</td>\n",
       "      <td>0.375000</td>\n",
       "      <td>0.303571</td>\n",
       "      <td>0.333333</td>\n",
       "      <td>0.352273</td>\n",
       "      <td>0.486111</td>\n",
       "      <td>0.525926</td>\n",
       "      <td>0.539529</td>\n",
       "      <td>...</td>\n",
       "      <td>0.751202</td>\n",
       "      <td>0.541906</td>\n",
       "      <td>0.381439</td>\n",
       "      <td>0.592315</td>\n",
       "      <td>0.398337</td>\n",
       "      <td>0.379622</td>\n",
       "      <td>0.296284</td>\n",
       "      <td>0.500241</td>\n",
       "      <td>0.507173</td>\n",
       "      <td>0</td>\n",
       "    </tr>\n",
       "    <tr>\n",
       "      <th>3</th>\n",
       "      <td>1.000000</td>\n",
       "      <td>0.971429</td>\n",
       "      <td>0.687500</td>\n",
       "      <td>0.687500</td>\n",
       "      <td>1.000000</td>\n",
       "      <td>0.944444</td>\n",
       "      <td>0.863636</td>\n",
       "      <td>0.229167</td>\n",
       "      <td>0.251852</td>\n",
       "      <td>0.584627</td>\n",
       "      <td>...</td>\n",
       "      <td>0.344354</td>\n",
       "      <td>0.588600</td>\n",
       "      <td>0.487632</td>\n",
       "      <td>0.068823</td>\n",
       "      <td>0.904945</td>\n",
       "      <td>0.569770</td>\n",
       "      <td>0.637515</td>\n",
       "      <td>0.638908</td>\n",
       "      <td>0.283333</td>\n",
       "      <td>0</td>\n",
       "    </tr>\n",
       "    <tr>\n",
       "      <th>4</th>\n",
       "      <td>0.492849</td>\n",
       "      <td>0.857143</td>\n",
       "      <td>0.604167</td>\n",
       "      <td>0.520833</td>\n",
       "      <td>0.553571</td>\n",
       "      <td>0.527778</td>\n",
       "      <td>0.465909</td>\n",
       "      <td>0.298611</td>\n",
       "      <td>0.259259</td>\n",
       "      <td>0.402276</td>\n",
       "      <td>...</td>\n",
       "      <td>0.325413</td>\n",
       "      <td>0.403707</td>\n",
       "      <td>0.724288</td>\n",
       "      <td>0.285088</td>\n",
       "      <td>0.741051</td>\n",
       "      <td>0.458558</td>\n",
       "      <td>0.840065</td>\n",
       "      <td>0.513761</td>\n",
       "      <td>0.257802</td>\n",
       "      <td>0</td>\n",
       "    </tr>\n",
       "    <tr>\n",
       "      <th>...</th>\n",
       "      <td>...</td>\n",
       "      <td>...</td>\n",
       "      <td>...</td>\n",
       "      <td>...</td>\n",
       "      <td>...</td>\n",
       "      <td>...</td>\n",
       "      <td>...</td>\n",
       "      <td>...</td>\n",
       "      <td>...</td>\n",
       "      <td>...</td>\n",
       "      <td>...</td>\n",
       "      <td>...</td>\n",
       "      <td>...</td>\n",
       "      <td>...</td>\n",
       "      <td>...</td>\n",
       "      <td>...</td>\n",
       "      <td>...</td>\n",
       "      <td>...</td>\n",
       "      <td>...</td>\n",
       "      <td>...</td>\n",
       "      <td>...</td>\n",
       "    </tr>\n",
       "    <tr>\n",
       "      <th>28447</th>\n",
       "      <td>0.718750</td>\n",
       "      <td>0.657143</td>\n",
       "      <td>0.708333</td>\n",
       "      <td>0.500000</td>\n",
       "      <td>0.214286</td>\n",
       "      <td>0.208333</td>\n",
       "      <td>0.170455</td>\n",
       "      <td>0.444444</td>\n",
       "      <td>0.600000</td>\n",
       "      <td>0.017982</td>\n",
       "      <td>...</td>\n",
       "      <td>0.250996</td>\n",
       "      <td>0.015263</td>\n",
       "      <td>0.227058</td>\n",
       "      <td>0.796859</td>\n",
       "      <td>0.219139</td>\n",
       "      <td>0.420106</td>\n",
       "      <td>0.493426</td>\n",
       "      <td>0.126893</td>\n",
       "      <td>0.494843</td>\n",
       "      <td>0</td>\n",
       "    </tr>\n",
       "    <tr>\n",
       "      <th>28448</th>\n",
       "      <td>0.250000</td>\n",
       "      <td>0.171429</td>\n",
       "      <td>0.020833</td>\n",
       "      <td>0.000000</td>\n",
       "      <td>0.321429</td>\n",
       "      <td>0.430556</td>\n",
       "      <td>0.409091</td>\n",
       "      <td>0.111111</td>\n",
       "      <td>0.096296</td>\n",
       "      <td>0.993803</td>\n",
       "      <td>...</td>\n",
       "      <td>0.468493</td>\n",
       "      <td>0.999978</td>\n",
       "      <td>0.487632</td>\n",
       "      <td>0.112047</td>\n",
       "      <td>0.989685</td>\n",
       "      <td>0.114574</td>\n",
       "      <td>0.185514</td>\n",
       "      <td>0.497558</td>\n",
       "      <td>0.196154</td>\n",
       "      <td>0</td>\n",
       "    </tr>\n",
       "    <tr>\n",
       "      <th>28449</th>\n",
       "      <td>0.625000</td>\n",
       "      <td>0.600000</td>\n",
       "      <td>0.437500</td>\n",
       "      <td>0.416667</td>\n",
       "      <td>0.285714</td>\n",
       "      <td>0.263889</td>\n",
       "      <td>0.227273</td>\n",
       "      <td>0.270833</td>\n",
       "      <td>0.370370</td>\n",
       "      <td>0.331032</td>\n",
       "      <td>...</td>\n",
       "      <td>0.391383</td>\n",
       "      <td>0.331230</td>\n",
       "      <td>0.520796</td>\n",
       "      <td>0.448370</td>\n",
       "      <td>0.455555</td>\n",
       "      <td>0.274244</td>\n",
       "      <td>0.864535</td>\n",
       "      <td>0.408838</td>\n",
       "      <td>0.457692</td>\n",
       "      <td>1</td>\n",
       "    </tr>\n",
       "    <tr>\n",
       "      <th>28450</th>\n",
       "      <td>0.437500</td>\n",
       "      <td>0.428571</td>\n",
       "      <td>0.354167</td>\n",
       "      <td>0.437500</td>\n",
       "      <td>0.767857</td>\n",
       "      <td>0.736111</td>\n",
       "      <td>0.750000</td>\n",
       "      <td>0.298611</td>\n",
       "      <td>0.259259</td>\n",
       "      <td>0.781223</td>\n",
       "      <td>...</td>\n",
       "      <td>0.695098</td>\n",
       "      <td>0.787009</td>\n",
       "      <td>0.938651</td>\n",
       "      <td>0.154138</td>\n",
       "      <td>0.859580</td>\n",
       "      <td>0.433677</td>\n",
       "      <td>0.296284</td>\n",
       "      <td>0.806074</td>\n",
       "      <td>0.296047</td>\n",
       "      <td>0</td>\n",
       "    </tr>\n",
       "    <tr>\n",
       "      <th>28451</th>\n",
       "      <td>0.718750</td>\n",
       "      <td>0.628571</td>\n",
       "      <td>0.500000</td>\n",
       "      <td>0.375000</td>\n",
       "      <td>0.160714</td>\n",
       "      <td>0.138889</td>\n",
       "      <td>0.113636</td>\n",
       "      <td>0.347222</td>\n",
       "      <td>0.503704</td>\n",
       "      <td>0.122749</td>\n",
       "      <td>...</td>\n",
       "      <td>0.294621</td>\n",
       "      <td>0.120914</td>\n",
       "      <td>0.265157</td>\n",
       "      <td>0.740930</td>\n",
       "      <td>0.240710</td>\n",
       "      <td>0.303059</td>\n",
       "      <td>0.493426</td>\n",
       "      <td>0.267812</td>\n",
       "      <td>0.835470</td>\n",
       "      <td>1</td>\n",
       "    </tr>\n",
       "  </tbody>\n",
       "</table>\n",
       "<p>28452 rows × 21 columns</p>\n",
       "</div>"
      ],
      "text/plain": [
       "           Blue     Green       Red      VRE1      VRE2      VRE3       NIR  \\\n",
       "0      0.343750  0.285714  0.312500  0.250000  0.339286  0.347222  0.363636   \n",
       "1      0.312500  0.257143  0.416667  0.333333  0.232143  0.222222  0.204545   \n",
       "2      0.250000  0.228571  0.354167  0.375000  0.303571  0.333333  0.352273   \n",
       "3      1.000000  0.971429  0.687500  0.687500  1.000000  0.944444  0.863636   \n",
       "4      0.492849  0.857143  0.604167  0.520833  0.553571  0.527778  0.465909   \n",
       "...         ...       ...       ...       ...       ...       ...       ...   \n",
       "28447  0.718750  0.657143  0.708333  0.500000  0.214286  0.208333  0.170455   \n",
       "28448  0.250000  0.171429  0.020833  0.000000  0.321429  0.430556  0.409091   \n",
       "28449  0.625000  0.600000  0.437500  0.416667  0.285714  0.263889  0.227273   \n",
       "28450  0.437500  0.428571  0.354167  0.437500  0.767857  0.736111  0.750000   \n",
       "28451  0.718750  0.628571  0.500000  0.375000  0.160714  0.138889  0.113636   \n",
       "\n",
       "          SWIR1     SWIR2      NDVI  ...       EVI      SAVI      NDMI  \\\n",
       "0      0.354167  0.377778  0.593744  ...  0.730366  0.596619  0.549196   \n",
       "1      0.409722  0.518519  0.326919  ...  0.505021  0.327011  0.306424   \n",
       "2      0.486111  0.525926  0.539529  ...  0.751202  0.541906  0.381439   \n",
       "3      0.229167  0.251852  0.584627  ...  0.344354  0.588600  0.487632   \n",
       "4      0.298611  0.259259  0.402276  ...  0.325413  0.403707  0.724288   \n",
       "...         ...       ...       ...  ...       ...       ...       ...   \n",
       "28447  0.444444  0.600000  0.017982  ...  0.250996  0.015263  0.227058   \n",
       "28448  0.111111  0.096296  0.993803  ...  0.468493  0.999978  0.487632   \n",
       "28449  0.270833  0.370370  0.331032  ...  0.391383  0.331230  0.520796   \n",
       "28450  0.298611  0.259259  0.781223  ...  0.695098  0.787009  0.938651   \n",
       "28451  0.347222  0.503704  0.122749  ...  0.294621  0.120914  0.265157   \n",
       "\n",
       "            MSI      NBRI       BSI      NDWI      ARVI      SIPI  Label  \n",
       "0      0.422650  0.540873  0.310542  0.362746  0.592950  0.393942      0  \n",
       "1      0.684651  0.302727  0.303334  0.459418  0.305046  0.778388      0  \n",
       "2      0.592315  0.398337  0.379622  0.296284  0.500241  0.507173      0  \n",
       "3      0.068823  0.904945  0.569770  0.637515  0.638908  0.283333      0  \n",
       "4      0.285088  0.741051  0.458558  0.840065  0.513761  0.257802      0  \n",
       "...         ...       ...       ...       ...       ...       ...    ...  \n",
       "28447  0.796859  0.219139  0.420106  0.493426  0.126893  0.494843      0  \n",
       "28448  0.112047  0.989685  0.114574  0.185514  0.497558  0.196154      0  \n",
       "28449  0.448370  0.455555  0.274244  0.864535  0.408838  0.457692      1  \n",
       "28450  0.154138  0.859580  0.433677  0.296284  0.806074  0.296047      0  \n",
       "28451  0.740930  0.240710  0.303059  0.493426  0.267812  0.835470      1  \n",
       "\n",
       "[28452 rows x 21 columns]"
      ]
     },
     "metadata": {},
     "output_type": "display_data"
    }
   ],
   "source": [
    "df = pd.read_csv('Sentinel_2.csv')\n",
    "display(df)"
   ]
  },
  {
   "cell_type": "markdown",
   "id": "029ff1b7-1b50-4d71-872d-cbd3b46ee190",
   "metadata": {},
   "source": [
    "# ----- MODELS IMPLEMENTATIONS -----"
   ]
  },
  {
   "cell_type": "markdown",
   "id": "fc02cc0d-531a-450f-9813-97d648785076",
   "metadata": {},
   "source": [
    "## Seperate Label from Dataframe"
   ]
  },
  {
   "cell_type": "code",
   "execution_count": 3,
   "id": "ccb0e254-d89c-4862-87b5-d22e9c214381",
   "metadata": {},
   "outputs": [
    {
     "data": {
      "text/plain": [
       "Label\n",
       "0    14226\n",
       "1    14226\n",
       "Name: count, dtype: int64"
      ]
     },
     "execution_count": 3,
     "metadata": {},
     "output_type": "execute_result"
    }
   ],
   "source": [
    "# Count Label type\n",
    "df.value_counts('Label')"
   ]
  },
  {
   "cell_type": "code",
   "execution_count": 4,
   "id": "eda8f434-f45e-4973-9a47-7096977f14ca",
   "metadata": {
    "tags": []
   },
   "outputs": [],
   "source": [
    "X = df.iloc[:, 0:len(df.columns)-1].values ## Training Data\n",
    "Y = df.iloc[:, len(df.columns)-1].values ## Label"
   ]
  },
  {
   "cell_type": "markdown",
   "id": "c76c34de-ecbd-4b0b-9388-63cbbe780262",
   "metadata": {},
   "source": [
    "## Spilt Train & Test Data"
   ]
  },
  {
   "cell_type": "code",
   "execution_count": 5,
   "id": "59a4eb78-cadd-4f24-a012-a4c1ac99f0ff",
   "metadata": {
    "tags": []
   },
   "outputs": [
    {
     "name": "stdout",
     "output_type": "stream",
     "text": [
      "X_train Shape: (1422, 20)\n",
      "X_test Shape: (27030, 20)\n",
      "y_train Shape: (1422,)\n",
      "y_test Shape:(27030,)\n",
      "\n"
     ]
    }
   ],
   "source": [
    "X_train, X_test, y_train, y_test = train_test_split(X, Y, test_size = 0.95, random_state=42)\n",
    "\n",
    "print(f'X_train Shape: {X_train.shape}\\nX_test Shape: {X_test.shape}\\ny_train Shape: {y_train.shape}\\ny_test Shape:{y_test.shape}\\n')"
   ]
  },
  {
   "cell_type": "markdown",
   "id": "6bf509e2-df71-422c-ae0c-9cd210d4008c",
   "metadata": {},
   "source": [
    "## Model Deployment"
   ]
  },
  {
   "cell_type": "code",
   "execution_count": 6,
   "id": "9b7dbd46-628e-4d2e-a5c7-f3a4672810a5",
   "metadata": {
    "tags": []
   },
   "outputs": [
    {
     "name": "stdout",
     "output_type": "stream",
     "text": [
      "[LightGBM] [Info] Number of positive: 714, number of negative: 708\n",
      "[LightGBM] [Info] Auto-choosing col-wise multi-threading, the overhead of testing was 0.000522 seconds.\n",
      "You can set `force_col_wise=true` to remove the overhead.\n",
      "[LightGBM] [Info] Total Bins 3362\n",
      "[LightGBM] [Info] Number of data points in the train set: 1422, number of used features: 20\n",
      "[LightGBM] [Info] [binary:BoostFromScore]: pavg=0.502110 -> initscore=0.008439\n",
      "[LightGBM] [Info] Start training from score 0.008439\n"
     ]
    },
    {
     "name": "stderr",
     "output_type": "stream",
     "text": [
      "C:\\Users\\SIRIP\\AppData\\Roaming\\Python\\Python311\\site-packages\\sklearn\\neural_network\\_multilayer_perceptron.py:691: ConvergenceWarning: Stochastic Optimizer: Maximum iterations (200) reached and the optimization hasn't converged yet.\n",
      "  warnings.warn(\n"
     ]
    }
   ],
   "source": [
    "scores = []\n",
    "models = []\n",
    "\n",
    "# K-Nearest Neighbors\n",
    "knn = KNeighborsClassifier(n_neighbors=9, metric = 'euclidean')\n",
    "knn.fit(X_train, y_train)\n",
    "y_pred_knn = knn.predict(X_test)\n",
    "knn_acc = accuracy_score(y_pred_knn, y_test)\n",
    "scores.append(knn_acc)\n",
    "models.append(knn)\n",
    "\n",
    "# Random Forest\n",
    "rf = RandomForestClassifier(n_estimators = 100, max_depth = 10, random_state = 42)\n",
    "rf.fit(X_train, y_train)\n",
    "y_pred_rf = rf.predict(X_test)\n",
    "rf_acc = accuracy_score(y_pred_rf, y_test)\n",
    "scores.append(rf_acc)\n",
    "models.append(rf)\n",
    "\n",
    "# Light GBM\n",
    "lgbm = lgb.LGBMClassifier()\n",
    "lgbm.fit(X_train, y_train)\n",
    "y_pred_lgbm = lgbm.predict(X_test)\n",
    "lgbm_acc = accuracy_score(y_pred_lgbm, y_test)\n",
    "scores.append(lgbm_acc)\n",
    "models.append(lgbm)\n",
    "\n",
    "# Support Vector Machine\n",
    "svm = SVC(C=4, gamma='auto')\n",
    "svm.fit(X_train, y_train)\n",
    "y_pred_svm = svm.predict(X_test)\n",
    "svm_acc = accuracy_score(y_pred_svm, y_test)\n",
    "scores.append(svm_acc)\n",
    "models.append(svm)\n",
    "\n",
    "# Gaussian Naive Bayes\n",
    "gnb = GaussianNB()\n",
    "gnb.fit(X_train, y_train)\n",
    "y_pred_gnb = gnb.predict(X_test)\n",
    "gnb_acc = accuracy_score(y_pred_gnb, y_test)\n",
    "scores.append(gnb_acc)\n",
    "models.append(gnb)\n",
    "\n",
    "# Multi-Layer Perceptron(MLP)\n",
    "mlp = MLPClassifier(hidden_layer_sizes=(30), activation='relu')\n",
    "mlp.fit(X_train, y_train)\n",
    "y_pred_mlp = mlp.predict(X_test)\n",
    "mlp_acc = accuracy_score(y_pred_mlp, y_test)\n",
    "scores.append(mlp_acc)\n",
    "models.append(mlp)"
   ]
  },
  {
   "cell_type": "markdown",
   "id": "f1d45fec-1f5d-4fba-951c-3046b0086fd5",
   "metadata": {},
   "source": [
    "## Print Accuracy"
   ]
  },
  {
   "cell_type": "code",
   "execution_count": 7,
   "id": "31a83360-9a35-4dc0-83f5-e2634db2c039",
   "metadata": {},
   "outputs": [
    {
     "name": "stdout",
     "output_type": "stream",
     "text": [
      "KNN accuracy score: 0.8455\n",
      "Random Forest accuracy score: 0.8501\n",
      "Light GBM accuracy score: 0.8416\n",
      "Support Vector Machine accuracy score: 0.8492\n",
      "Gaussian Naive Bayes accuracy score: 0.8349\n",
      "Multi-Layer Perceptron (MLP) accuracy score: 0.8475\n"
     ]
    },
    {
     "data": {
      "image/png": "[encoded data removed]",
      "text/plain": [
       "<Figure size 640x480 with 1 Axes>"
      ]
     },
     "metadata": {},
     "output_type": "display_data"
    }
   ],
   "source": [
    "print('KNN accuracy score: {0:0.4f}'.format(accuracy_score(y_pred_knn, y_test)))\n",
    "print('Random Forest accuracy score: {0:0.4f}'.format(accuracy_score(y_pred_rf, y_test)))\n",
    "print('Light GBM accuracy score: {0:0.4f}'.format(accuracy_score(y_pred_lgbm, y_test)))\n",
    "print('Support Vector Machine accuracy score: {0:0.4f}'.format(accuracy_score(y_pred_svm, y_test)))\n",
    "print('Gaussian Naive Bayes accuracy score: {0:0.4f}'.format(accuracy_score(y_pred_gnb, y_test)))\n",
    "print('Multi-Layer Perceptron (MLP) accuracy score: {0:0.4f}'.format(accuracy_score(y_pred_mlp, y_test)))\n",
    "\n",
    "plt.title('Accuracy')\n",
    "no_of_models = len(scores)\n",
    "model_labels = ['KNN', 'Random Forest', 'Light GBM', 'SVM', 'GNB', 'MLP']\n",
    "plt.bar(range(no_of_models), scores, color='lightblue', align='center')\n",
    "plt.xticks(range(no_of_models), model_labels)#, rotation=45)\n",
    "plt.xlim([-1, no_of_models])\n",
    "\n",
    "# set individual bar lables with accuracy value\n",
    "for i, v in enumerate(scores):\n",
    "    plt.text(i-0.1, v+0.005, str(round(v,3)), color='Blue', fontweight='bold')\n",
    "    \n",
    "plt.tight_layout()\n",
    "plt.show()"
   ]
  },
  {
   "cell_type": "markdown",
   "id": "b18f5574-a60b-4a67-b553-7d6f8f9a860a",
   "metadata": {},
   "source": [
    "## Precision, Recall and F-1 Score"
   ]
  },
  {
   "cell_type": "code",
   "execution_count": 8,
   "id": "ab488596-d765-46b5-ac54-1bc0e7c1d09c",
   "metadata": {
    "tags": []
   },
   "outputs": [
    {
     "name": "stdout",
     "output_type": "stream",
     "text": [
      "\n",
      "KNN Classification report: \n",
      "              precision    recall  f1-score   support\n",
      "\n",
      "           0       0.92      0.76      0.83     13518\n",
      "           1       0.79      0.93      0.86     13512\n",
      "\n",
      "    accuracy                           0.85     27030\n",
      "   macro avg       0.86      0.85      0.84     27030\n",
      "weighted avg       0.86      0.85      0.84     27030\n",
      "\n",
      "\n",
      "Random Forest Classification report: \n",
      "              precision    recall  f1-score   support\n",
      "\n",
      "           0       0.90      0.79      0.84     13518\n",
      "           1       0.81      0.91      0.86     13512\n",
      "\n",
      "    accuracy                           0.85     27030\n",
      "   macro avg       0.86      0.85      0.85     27030\n",
      "weighted avg       0.86      0.85      0.85     27030\n",
      "\n",
      "\n",
      "SVM Classification report: \n",
      "              precision    recall  f1-score   support\n",
      "\n",
      "           0       0.91      0.78      0.84     13518\n",
      "           1       0.81      0.92      0.86     13512\n",
      "\n",
      "    accuracy                           0.85     27030\n",
      "   macro avg       0.86      0.85      0.85     27030\n",
      "weighted avg       0.86      0.85      0.85     27030\n",
      "\n",
      "\n",
      "Gaussian NB Classification report: \n",
      "              precision    recall  f1-score   support\n",
      "\n",
      "           0       0.89      0.76      0.82     13518\n",
      "           1       0.79      0.91      0.85     13512\n",
      "\n",
      "    accuracy                           0.83     27030\n",
      "   macro avg       0.84      0.83      0.83     27030\n",
      "weighted avg       0.84      0.83      0.83     27030\n",
      "\n",
      "\n",
      "Light GBM Classification report: \n",
      "              precision    recall  f1-score   support\n",
      "\n",
      "           0       0.88      0.79      0.83     13518\n",
      "           1       0.81      0.89      0.85     13512\n",
      "\n",
      "    accuracy                           0.84     27030\n",
      "   macro avg       0.84      0.84      0.84     27030\n",
      "weighted avg       0.84      0.84      0.84     27030\n",
      "\n",
      "\n",
      "MLP Classification report: \n",
      "              precision    recall  f1-score   support\n",
      "\n",
      "           0       0.89      0.79      0.84     13518\n",
      "           1       0.81      0.91      0.86     13512\n",
      "\n",
      "    accuracy                           0.85     27030\n",
      "   macro avg       0.85      0.85      0.85     27030\n",
      "weighted avg       0.85      0.85      0.85     27030\n",
      "\n"
     ]
    }
   ],
   "source": [
    "y_preds = {\n",
    "    'KNN': y_pred_knn,\n",
    "    'Random Forest': y_pred_rf,\n",
    "    'SVM': y_pred_svm,\n",
    "    'Gaussian NB': y_pred_gnb,\n",
    "    'Light GBM': y_pred_lgbm,\n",
    "    'MLP': y_pred_mlp\n",
    "}\n",
    "\n",
    "for name, y_pred in y_preds.items():\n",
    "    report = classification_report(y_test, y_pred, output_dict=False)\n",
    "    print(f\"\\n{name} Classification report: \\n{report}\")"
   ]
  },
  {
   "cell_type": "markdown",
   "id": "79a09ef5-ac0a-41e3-ab36-b4fe22543a6d",
   "metadata": {},
   "source": [
    "## Confusion Matrix"
   ]
  },
  {
   "cell_type": "code",
   "execution_count": 9,
   "id": "d10ada5e-00c0-4c5f-81bd-5b14e80d41c5",
   "metadata": {
    "tags": []
   },
   "outputs": [
    {
     "name": "stdout",
     "output_type": "stream",
     "text": [
      "\n",
      "True Positives(TP) - KNN =  10225\n",
      "\n",
      "True Negatives(TN) - KNN =  12629\n",
      "\n",
      "False Positives(FP) - KNN =  3293\n",
      "\n",
      "False Negatives(FN) - KNN =  883\n"
     ]
    },
    {
     "data": {
      "image/png": "[encoded data removed]",
      "text/plain": [
       "<Figure size 600x400 with 1 Axes>"
      ]
     },
     "metadata": {},
     "output_type": "display_data"
    },
    {
     "name": "stdout",
     "output_type": "stream",
     "text": [
      "\n",
      "True Positives(TP) - Random Forest =  10655\n",
      "\n",
      "True Negatives(TN) - Random Forest =  12324\n",
      "\n",
      "False Positives(FP) - Random Forest =  2863\n",
      "\n",
      "False Negatives(FN) - Random Forest =  1188\n"
     ]
    },
    {
     "data": {
      "image/png": "[encoded data removed]",
      "text/plain": [
       "<Figure size 600x400 with 1 Axes>"
      ]
     },
     "metadata": {},
     "output_type": "display_data"
    },
    {
     "name": "stdout",
     "output_type": "stream",
     "text": [
      "\n",
      "True Positives(TP) - SVM =  10505\n",
      "\n",
      "True Negatives(TN) - SVM =  12450\n",
      "\n",
      "False Positives(FP) - SVM =  3013\n",
      "\n",
      "False Negatives(FN) - SVM =  1062\n"
     ]
    },
    {
     "data": {
      "image/png": "[encoded data removed]",
      "text/plain": [
       "<Figure size 600x400 with 1 Axes>"
      ]
     },
     "metadata": {},
     "output_type": "display_data"
    },
    {
     "name": "stdout",
     "output_type": "stream",
     "text": [
      "\n",
      "True Positives(TP) - Gaussian NB =  10261\n",
      "\n",
      "True Negatives(TN) - Gaussian NB =  12305\n",
      "\n",
      "False Positives(FP) - Gaussian NB =  3257\n",
      "\n",
      "False Negatives(FN) - Gaussian NB =  1207\n"
     ]
    },
    {
     "data": {
      "image/png": "[encoded data removed]",
      "text/plain": [
       "<Figure size 600x400 with 1 Axes>"
      ]
     },
     "metadata": {},
     "output_type": "display_data"
    },
    {
     "name": "stdout",
     "output_type": "stream",
     "text": [
      "\n",
      "True Positives(TP) - Light GBM =  10713\n",
      "\n",
      "True Negatives(TN) - Light GBM =  12036\n",
      "\n",
      "False Positives(FP) - Light GBM =  2805\n",
      "\n",
      "False Negatives(FN) - Light GBM =  1476\n"
     ]
    },
    {
     "data": {
      "image/png": "[encoded data removed]",
      "text/plain": [
       "<Figure size 600x400 with 1 Axes>"
      ]
     },
     "metadata": {},
     "output_type": "display_data"
    },
    {
     "name": "stdout",
     "output_type": "stream",
     "text": [
      "\n",
      "True Positives(TP) - MLP =  10672\n",
      "\n",
      "True Negatives(TN) - MLP =  12235\n",
      "\n",
      "False Positives(FP) - MLP =  2846\n",
      "\n",
      "False Negatives(FN) - MLP =  1277\n"
     ]
    },
    {
     "data": {
      "image/png": "[encoded data removed]",
      "text/plain": [
       "<Figure size 600x400 with 1 Axes>"
      ]
     },
     "metadata": {},
     "output_type": "display_data"
    }
   ],
   "source": [
    "# Generating confusion matrix for each classifier  \n",
    "classifiers = [knn, rf, svm, gnb, lgbm, mlp]\n",
    "classifier_names = ['KNN', 'Random Forest', 'SVM', 'Gaussian NB', 'Light GBM', 'MLP']\n",
    "\n",
    "for clf, name in zip(classifiers, classifier_names):\n",
    "    y_pred = clf.predict(X_test)\n",
    "    cm = confusion_matrix(y_test, y_pred)\n",
    "    plt.figure(figsize=(6, 4))\n",
    "    sns.heatmap(cm, annot=True, fmt='d', cmap='Blues', cbar=False)\n",
    "    print(f'\\nTrue Positives(TP) - {name} = ', cm[0,0])\n",
    "    print(f'\\nTrue Negatives(TN) - {name} = ', cm[1,1])\n",
    "    print(f'\\nFalse Positives(FP) - {name} = ', cm[0,1])\n",
    "    print(f'\\nFalse Negatives(FN) - {name} = ', cm[1,0])\n",
    "    plt.title(f'Confusion Matrix - {name}')\n",
    "    plt.xlabel('Predicted')\n",
    "    plt.ylabel('True')\n",
    "    plt.show()"
   ]
  }
 ],
 "metadata": {
  "kernelspec": {
   "display_name": "Python 3 (ipykernel)",
   "language": "python",
   "name": "python3"
  },
  "language_info": {
   "codemirror_mode": {
    "name": "ipython",
    "version": 3
   },
   "file_extension": ".py",
   "mimetype": "text/x-python",
   "name": "python",
   "nbconvert_exporter": "python",
   "pygments_lexer": "ipython3",
   "version": "3.11.5"
  }
 },
 "nbformat": 4,
 "nbformat_minor": 5
}
