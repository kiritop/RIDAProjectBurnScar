{
 "cells": [
  {
   "cell_type": "markdown",
   "id": "75cba5b1",
   "metadata": {},
   "source": [
    "# PYTHON LIBRARY IMPORT"
   ]
  },
  {
   "cell_type": "code",
   "execution_count": 1,
   "id": "d3d00bc0",
   "metadata": {},
   "outputs": [],
   "source": [
    "import rasterio as rio\n",
    "import numpy as np\n",
    "import pandas as pd\n",
    "import pickle\n",
    "from collections import Counter\n",
    "import os\n",
    "import re"
   ]
  },
  {
   "cell_type": "markdown",
   "id": "bee14e1e",
   "metadata": {},
   "source": [
    "# Perform with All files"
   ]
  },
  {
   "cell_type": "code",
   "execution_count": null,
   "id": "d14406c3",
   "metadata": {},
   "outputs": [],
   "source": [
    "# Define the preprocessing function\n",
    "def preprocess(df, scaler_path):\n",
    "    new_column_names = [\n",
    "        'Band_3_Post', 'Band_4_Post', 'Band_5_Post', 'Band_6_Post',\n",
    "        'Band_7_Post', 'Band_8_Post', 'Band_8A_Post', 'Band_9_Post', 'Band_12_Post'\n",
    "    ]\n",
    "    rename_dict = dict(zip(df.columns[:len(new_column_names)], new_column_names))\n",
    "    df_rename = df.rename(columns=rename_dict)\n",
    "\n",
    "    with open(scaler_path, 'rb') as f:\n",
    "        scaler = pickle.load(f)\n",
    "\n",
    "    df_normalized = scaler.transform(df_rename)\n",
    "    df_normalized = pd.DataFrame(df_normalized, columns=df_rename.columns)\n",
    "    df_rename = df_normalized.rename(columns=rename_dict)\n",
    "\n",
    "    return df_rename\n",
    "\n",
    "# Define the prediction function\n",
    "def make_predictions(directory, df_rename):\n",
    "    loaded_model = pickle.load(open(directory, 'rb'))\n",
    "    y_pred = loaded_model.predict(df_rename)\n",
    "    df_rename[\"BURN_PREDICTED\"] = y_pred\n",
    "    label_counts = Counter(y_pred)\n",
    "    print(\"\\nCount of each predicted label:\")\n",
    "    for label, count in label_counts.items():\n",
    "        print(f\"Label {label}: {count}\")\n",
    "\n",
    "    return df_rename\n",
    "\n",
    "# Define the function to create GeoTIFF from predictions\n",
    "def create_geotiff_from_predictions(predictions, original_tif_path, output_tif_path):\n",
    "    with rio.open(original_tif_path) as src:\n",
    "        original_metadata = src.meta.copy()\n",
    "    \n",
    "    original_metadata.update({\n",
    "        'dtype': 'uint8',\n",
    "        'count': 1,\n",
    "    })\n",
    "\n",
    "    band_1 = predictions.values.reshape((original_metadata['height'], original_metadata['width']))\n",
    "\n",
    "    with rio.open(output_tif_path, 'w', **original_metadata) as new_img:\n",
    "        new_img.write(band_1, 1)\n",
    "\n",
    "    print(f\"New GeoTIFF file '{output_tif_path}' has been created.\")\n",
    "\n",
    "# Directory containing the raster files\n",
    "raster_dir = r\"raster\"\n",
    "scaler_path = r\"model/min_max_scaler.pkl\"\n",
    "model_path = r\"model/Model_LGBM.sav\"\n",
    "\n",
    "# Loop through each file in the directory\n",
    "for file_name in os.listdir(raster_dir):\n",
    "    if file_name.endswith(\".tif\"):\n",
    "        file_path = os.path.join(raster_dir, file_name)\n",
    "\n",
    "        # Extract year from the filename using regex\n",
    "        match = re.search(r'_(\\d{4})', file_name)\n",
    "        if match:\n",
    "            year = match.group(1)\n",
    "\n",
    "            # Process the file\n",
    "            img = rio.open(file_path)\n",
    "            array = img.read()\n",
    "            n_bands = array.shape[0]\n",
    "\n",
    "            df = pd.DataFrame(array.reshape([n_bands, -1]).T, columns=[f\"band_{i+1}\" for i in range(n_bands)])\n",
    "            df_rename = preprocess(df, scaler_path)\n",
    "            df_predicted = make_predictions(model_path, df_rename)\n",
    "\n",
    "            # Create GeoTIFF file from predictions\n",
    "            output_tif_path = os.path.join(raster_dir, f'output_{year}.tif')\n",
    "            create_geotiff_from_predictions(df_predicted[\"BURN_PREDICTED\"], file_path, output_tif_path)"
   ]
  }
 ],
 "metadata": {
  "kernelspec": {
   "display_name": "Python 3 (ipykernel)",
   "language": "python",
   "name": "python3"
  },
  "language_info": {
   "codemirror_mode": {
    "name": "ipython",
    "version": 3
   },
   "file_extension": ".py",
   "mimetype": "text/x-python",
   "name": "python",
   "nbconvert_exporter": "python",
   "pygments_lexer": "ipython3",
   "version": "3.11.7"
  }
 },
 "nbformat": 4,
 "nbformat_minor": 5
}
